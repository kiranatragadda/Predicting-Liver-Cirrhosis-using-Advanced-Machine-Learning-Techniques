{
 "cells": [
  {
   "cell_type": "code",
   "execution_count": null,
   "id": "7377372c",
   "metadata": {},
   "outputs": [],
   "source": [
    "import pandas as pd\n",
    "import numpy as np\n",
    "import matplotlib.pyplot as plt\n",
    "import seaborn as sns\n",
    "import pickle\n",
    "\n",
    "from sklearn.model_selection import train_test_split\n",
    "from sklearn.preprocessing import StandardScaler, LabelEncoder\n",
    "from sklearn.ensemble import RandomForestClassifier\n",
    "from sklearn.metrics import accuracy_score, classification_report, confusion_matrix\n",
    "\n",
    "df = pd.read_csv('/content/cirrhosis.csv')\n",
    "df = df.drop(['N_Days'], axis=1)\n",
    "df['Sex'] = df['Sex'].map({'M': 1, 'F': 0})\n",
    "df['Drug'] = LabelEncoder().fit_transform(df['Drug'])\n",
    "\n",
    "binary_cols = ['Ascites', 'Hepatomegaly', 'Spiders', 'Edema']\n",
    "for col in binary_cols:\n",
    "    df[col] = df[col].map({'Y': 1, 'N': 0, 'S': 1})\n",
    "numeric_cols = df.select_dtypes(include=[np.number]).columns\n",
    "df[numeric_cols] = df[numeric_cols].fillna(df[numeric_cols].median())\n",
    "df['Status'] = df['Status'].apply(lambda x: 0 if x == 0 else 1)\n",
    "X = df[['Drug', 'Age', 'Sex', 'Ascites', 'Hepatomegaly', 'Spiders', 'Edema',\n",
    "        'Bilirubin', 'Cholesterol', 'Albumin', 'Copper', 'Alk_Phos',\n",
    "        'SGOT', 'Tryglicerides', 'Platelets', 'Prothrombin', 'Stage']]\n",
    "y = df['Status']\n",
    "X_train, X_test, y_train, y_test = train_test_split(X, y, test_size=0.2, random_state=42)\n",
    "scaler = StandardScaler()\n",
    "X_train_scaled = scaler.fit_transform(X_train)\n",
    "X_test_scaled = scaler.transform(X_test)\n",
    "rf = RandomForestClassifier(random_state=42)\n",
    "rf.fit(X_train_scaled, y_train)\n",
    "y_pred = rf.predict(X_test_scaled)\n",
    "print(\"Accuracy:\", accuracy_score(y_test, y_pred))\n",
    "print(classification_report(y_test, y_pred))\n",
    "sns.heatmap(confusion_matrix(y_test, y_pred), annot=True, fmt='d', cmap='Blues')\n",
    "plt.title(\"Confusion Matrix\")\n",
    "plt.show()\n",
    "with open('rf_acc_68.pkl', 'wb') as f:\n",
    "    pickle.dump(rf, f)\n",
    "\n",
    "with open('normalizer.pkl', 'wb') as f:\n",
    "    pickle.dump(scaler, f)\n",
    "print(X.columns.tolist())\n",
    "print(\"Number of features in X:\", X.shape[1])"
   ]
  }
 ],
 "metadata": {
  "kernelspec": {
   "display_name": "Python 3",
   "language": "python",
   "name": "python3"
  },
  "language_info": {
   "name": "python",
   "version": "3.13.5"
  }
 },
 "nbformat": 4,
 "nbformat_minor": 5
}
